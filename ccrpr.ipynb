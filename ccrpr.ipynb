{
 "cells": [
  {
   "cell_type": "code",
   "execution_count": 45,
   "metadata": {},
   "outputs": [],
   "source": [
    "import numpy as np\n",
    "from scipy.spatial import ConvexHull\n",
    "from matplotlib.path import Path\n",
    "import time"
   ]
  },
  {
   "cell_type": "markdown",
   "metadata": {},
   "source": [
    "# Fitness Function"
   ]
  },
  {
   "cell_type": "code",
   "execution_count": 46,
   "metadata": {},
   "outputs": [],
   "source": [
    "def fitness_repel(pi, j, Dmin=2):\n",
    "    \"\"\"\n",
    "    计算指定个体的COLLISION AVOIDANCE\n",
    "    Input:\n",
    "        pi: 子种群，Np*2维\n",
    "        j: 指定个体索引\n",
    "    \"\"\"\n",
    "    distances = np.linalg.norm(pi - pi[j], axis=1)\n",
    "    distances[j] = np.inf # 排除自身\n",
    "    nnd = np.min(distances)\n",
    "    return np.exp(2 * (Dmin - nnd)) if nnd < Dmin else 1\n",
    "    \n",
    "def fitness_closure(firsts, idx, p_ij, prey):\n",
    "    \"\"\"\n",
    "    计算CLOSURE\n",
    "    Input:\n",
    "        firsts: 每个子种群首元素，Ns*2维\n",
    "        idx：指定子中群索引\n",
    "        p_ij: 第i个子种群第j个个体位置，2维\n",
    "        prey: 猎物位置，2维\n",
    "    \"\"\"\n",
    "    if len(firsts) < 3:\n",
    "        return 0\n",
    "    firsts[idx] = p_ij # 替换为虚拟robot\n",
    "    hull = ConvexHull(firsts)\n",
    "    hull_vertices = firsts[hull.vertices]\n",
    "    hull_path = Path(hull_vertices)\n",
    "    if hull_path.contains_point(prey, radius=-1e-10): # 判断是否在凸包内部\n",
    "        return 1\n",
    "    def is_point_on_segment(point, p1, p2):\n",
    "        v1 = point - p1\n",
    "        v2 = point - p2\n",
    "        if np.cross(np.append(v1, [0]), np.append(v2, [0]))[-1] == 0:  # 点在直线上\n",
    "            if v1[0] * v2[0] <= 0 and v1[1] * v2[1] <= 0:  # 点在线段上\n",
    "                return True\n",
    "        return False\n",
    "    for i in range(len(hull_vertices)):\n",
    "        p1 = hull_vertices[i]\n",
    "        p2 = hull_vertices[(i+1) % len(hull_vertices)]\n",
    "        if is_point_on_segment(prey, p1, p2): # 判断是否凸包边界上\n",
    "            return 0.5\n",
    "    return 0\n",
    "\n",
    "def fitness_expanse(firsts, idx, pij, prey):\n",
    "    \"\"\"\n",
    "    计算SWARM EXPANSE\n",
    "    Input:\n",
    "        firsts: 每个子种群首元素，Ns*2维\n",
    "        pij: 第i个子种群第j个个体位置，2维\n",
    "        prey: 猎物位置，2维\n",
    "    \"\"\"\n",
    "    firsts[idx] = pij # 替换为虚拟robot\n",
    "    return np.sum(np.linalg.norm(firsts - prey, axis=1)) / len(firsts)\n",
    "\n",
    "def fitness_uniformity(bins):\n",
    "    \"\"\"\n",
    "    计算UNIFORMITY\n",
    "    Input:\n",
    "        bins = [[N11, N12], [N21, N22]]\n",
    "    Output:\n",
    "        std: 矩阵元素的标准差\n",
    "    \"\"\" \n",
    "    return np.std(bins)\n"
   ]
  },
  {
   "cell_type": "markdown",
   "metadata": {},
   "source": [
    "# Iteration"
   ]
  },
  {
   "cell_type": "code",
   "execution_count": 70,
   "metadata": {},
   "outputs": [],
   "source": [
    "def ccpso(Ns=20, Np=10, left_range=-100, right_range=100, Tv=10, time_lim=1000):\n",
    "    start_time = time.time()\n",
    "    population = left_range + (right_range - left_range) * np.random.rand(Ns, Np, 2) # 初始种群\n",
    "    \n",
    "    def evaluate(idx):\n",
    "        # TODO: 更新虚拟robot速度、位置，计算适应度\n",
    "        ...\n",
    "        \n",
    "    population = np.array([[[1., 2.], [3., 4.]], [[1., 2.], [5., 6.]], [[2., 1.], [3., 4.]]])\n",
    "    \n",
    "    while time.time() - start_time < time_lim:\n",
    "        for i in range(Ns):\n",
    "            # 评估每个虚拟robot\n",
    "            evaluate(i)\n",
    "            \n",
    "            # 虚拟robot重叠时重置\n",
    "            unique_cnt = np.unique(population[i, 1:], axis=0).shape[0]\n",
    "            if unique_cnt < Tv:\n",
    "                population[i, 1:] = left_range + (right_range - left_range) * np.random.rand(Np - 1, 2)\n",
    "                evaluate(i)\n",
    "                \n",
    "            # TODO: 更新真实robot速度、位置，计算适应度\n",
    "            \n",
    "            # TODO: 真实robot的fitness为subpopulation中最小时重置\n",
    "            if ...:\n",
    "                population[i, 1:] = left_range + (right_range - left_range) * np.random.rand(Np - 1, 2)\n",
    "                evaluate(i)\n",
    "            #  TODO: 死锁时添加随机扰动\n",
    "            elif ...:\n",
    "                population[i, 0] += np.random.normal(loc=0, scale=1, size=2)\n",
    "                break\n",
    "        \n",
    "        # TODO: 局部最优时添加随机扰动\n",
    "        if ...:\n",
    "            population[:, 0] += np.random.normal(loc=0, scale=1, size=(Ns, 2))\n",
    "           \n",
    "        \n",
    "ccpso(3, 2, time_lim=0.5)"
   ]
  }
 ],
 "metadata": {
  "kernelspec": {
   "display_name": "rbso",
   "language": "python",
   "name": "python3"
  },
  "language_info": {
   "codemirror_mode": {
    "name": "ipython",
    "version": 3
   },
   "file_extension": ".py",
   "mimetype": "text/x-python",
   "name": "python",
   "nbconvert_exporter": "python",
   "pygments_lexer": "ipython3",
   "version": "3.13.2"
  }
 },
 "nbformat": 4,
 "nbformat_minor": 2
}
